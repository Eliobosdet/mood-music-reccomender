{
 "cells": [
  {
   "cell_type": "code",
   "execution_count": 15,
   "id": "ed6a5937-0a08-45d7-8d1f-25fe396a3e29",
   "metadata": {},
   "outputs": [
    {
     "name": "stdout",
     "output_type": "stream",
     "text": [
      "Dimensioni dataset: (1802, 5)\n",
      "Colonne dataset: ['Track_ID', 'Title', 'Valence', 'Arousal', 'Emotion_Label']\n",
      "\n",
      "Tipi di dato:\n"
     ]
    },
    {
     "data": {
      "text/plain": [
       "Track_ID          object\n",
       "Title             object\n",
       "Valence          float64\n",
       "Arousal          float64\n",
       "Emotion_Label     object\n",
       "dtype: object"
      ]
     },
     "metadata": {},
     "output_type": "display_data"
    },
    {
     "name": "stdout",
     "output_type": "stream",
     "text": [
      "\n",
      "Somma di elementi nulli: \n"
     ]
    },
    {
     "data": {
      "text/plain": [
       "Track_ID         0\n",
       "Title            0\n",
       "Valence          0\n",
       "Arousal          0\n",
       "Emotion_Label    0\n",
       "dtype: int64"
      ]
     },
     "metadata": {},
     "output_type": "display_data"
    },
    {
     "name": "stdout",
     "output_type": "stream",
     "text": [
      "\n",
      "Anteprima dataset: \n"
     ]
    },
    {
     "data": {
      "text/html": [
       "<div>\n",
       "<style scoped>\n",
       "    .dataframe tbody tr th:only-of-type {\n",
       "        vertical-align: middle;\n",
       "    }\n",
       "\n",
       "    .dataframe tbody tr th {\n",
       "        vertical-align: top;\n",
       "    }\n",
       "\n",
       "    .dataframe thead th {\n",
       "        text-align: right;\n",
       "    }\n",
       "</style>\n",
       "<table border=\"1\" class=\"dataframe\">\n",
       "  <thead>\n",
       "    <tr style=\"text-align: right;\">\n",
       "      <th></th>\n",
       "      <th>Track_ID</th>\n",
       "      <th>Title</th>\n",
       "      <th>Valence</th>\n",
       "      <th>Arousal</th>\n",
       "      <th>Emotion_Label</th>\n",
       "    </tr>\n",
       "  </thead>\n",
       "  <tbody>\n",
       "    <tr>\n",
       "      <th>0</th>\n",
       "      <td>T0001</td>\n",
       "      <td>Song_1</td>\n",
       "      <td>0.37</td>\n",
       "      <td>0.35</td>\n",
       "      <td>Sad</td>\n",
       "    </tr>\n",
       "    <tr>\n",
       "      <th>1</th>\n",
       "      <td>T0002</td>\n",
       "      <td>Song_2</td>\n",
       "      <td>0.95</td>\n",
       "      <td>0.30</td>\n",
       "      <td>Relaxed</td>\n",
       "    </tr>\n",
       "    <tr>\n",
       "      <th>2</th>\n",
       "      <td>T0003</td>\n",
       "      <td>Song_3</td>\n",
       "      <td>0.73</td>\n",
       "      <td>0.35</td>\n",
       "      <td>Relaxed</td>\n",
       "    </tr>\n",
       "    <tr>\n",
       "      <th>3</th>\n",
       "      <td>T0004</td>\n",
       "      <td>Song_4</td>\n",
       "      <td>0.60</td>\n",
       "      <td>0.77</td>\n",
       "      <td>Happy</td>\n",
       "    </tr>\n",
       "    <tr>\n",
       "      <th>4</th>\n",
       "      <td>T0005</td>\n",
       "      <td>Song_5</td>\n",
       "      <td>0.16</td>\n",
       "      <td>0.66</td>\n",
       "      <td>Angry</td>\n",
       "    </tr>\n",
       "  </tbody>\n",
       "</table>\n",
       "</div>"
      ],
      "text/plain": [
       "  Track_ID   Title  Valence  Arousal Emotion_Label\n",
       "0    T0001  Song_1     0.37     0.35           Sad\n",
       "1    T0002  Song_2     0.95     0.30       Relaxed\n",
       "2    T0003  Song_3     0.73     0.35       Relaxed\n",
       "3    T0004  Song_4     0.60     0.77         Happy\n",
       "4    T0005  Song_5     0.16     0.66         Angry"
      ]
     },
     "metadata": {},
     "output_type": "display_data"
    }
   ],
   "source": [
    "import pandas as pd\n",
    "import numpy as np\n",
    "import matplotlib.pyplot as plt\n",
    "import seaborn as sns\n",
    "\n",
    "pd.set_option('display.width', None)  # None = usa la larghezza completa del terminale\n",
    "pd.set_option('display.max_columns', None)\n",
    "\n",
    "# Carica dataset\n",
    "df = pd.read_csv(\"../data/raw/deam_emotion_tags.csv\")\n",
    "\n",
    "# Mostra dimensioni\n",
    "print(\"Dimensioni dataset:\", df.shape)\n",
    "\n",
    "# Mostra colonne\n",
    "print(\"Colonne dataset:\", df.columns.tolist())\n",
    "\n",
    "# Tipi di dato\n",
    "print(\"\\nTipi di dato:\")\n",
    "display(df.dtypes)\n",
    "\n",
    "# Controllo dei valori nulli\n",
    "print(\"\\nSomma di elementi nulli: \") \n",
    "display(df.isnull().sum())\n",
    "\n",
    "# Anteprima\n",
    "print(\"\\nAnteprima dataset: \")\n",
    "display(df.head())\n"
   ]
  },
  {
   "cell_type": "code",
   "execution_count": 26,
   "id": "bb497d4d-382a-42ac-911b-4b574250da9a",
   "metadata": {},
   "outputs": [
    {
     "name": "stdout",
     "output_type": "stream",
     "text": [
      "Conteggio delle emozioni: \n",
      "Emotion_Label\n",
      "Happy      485\n",
      "Sad        448\n",
      "Relaxed    437\n",
      "Angry      432\n",
      "Name: count, dtype: int64\n",
      "\n",
      "Percentuali:\n",
      "Emotion_Label\n",
      "Happy      26.91\n",
      "Sad        24.86\n",
      "Relaxed    24.25\n",
      "Angry      23.97\n",
      "Name: proportion, dtype: float64\n"
     ]
    },
    {
     "data": {
      "image/png": "[encoded data removed]",
      "text/plain": [
       "<Figure size 1000x500 with 1 Axes>"
      ]
     },
     "metadata": {},
     "output_type": "display_data"
    }
   ],
   "source": [
    "# 1. Conteggio delle emozioni\n",
    "emotion_counts = df['Emotion_Label'].value_counts()\n",
    "print(\"Conteggio delle emozioni: \")\n",
    "print(emotion_counts)\n",
    "\n",
    "# 2. Calcola le percentuali\n",
    "emotion_percentages = (df['Emotion_Label'].value_counts(normalize=True) * 100).round(2)\n",
    "print(\"\\nPercentuali:\")\n",
    "print(emotion_percentages)\n",
    "\n",
    "# 3. Crea un bar plot\n",
    "plt.figure(figsize=(10, 5))\n",
    "sns.barplot(x=emotion_counts.index, y=emotion_counts.values, hue=emotion_counts.index, palette='viridis', legend=False)\n",
    "plt.title('Distribuzione delle Etichette Emotive (DEAM)')\n",
    "plt.xlabel('Emozione')\n",
    "plt.ylabel('Numero di Campioni')\n",
    "# Aggiungi le etichette con i valori sopra ogni barra\n",
    "for i, count in enumerate(emotion_counts.values):\n",
    "    plt.text(i, count + 0.5, str(count), ha='center', va='bottom')\n",
    "plt.show()"
   ]
  },
  {
   "cell_type": "code",
   "execution_count": null,
   "id": "2a5075c2-920b-495e-9d42-d42e49e5adb3",
   "metadata": {},
   "outputs": [],
   "source": []
  }
 ],
 "metadata": {
  "kernelspec": {
   "display_name": "Python 3 (ipykernel)",
   "language": "python",
   "name": "python3"
  },
  "language_info": {
   "codemirror_mode": {
    "name": "ipython",
    "version": 3
   },
   "file_extension": ".py",
   "mimetype": "text/x-python",
   "name": "python",
   "nbconvert_exporter": "python",
   "pygments_lexer": "ipython3",
   "version": "3.13.7"
  }
 },
 "nbformat": 4,
 "nbformat_minor": 5
}
